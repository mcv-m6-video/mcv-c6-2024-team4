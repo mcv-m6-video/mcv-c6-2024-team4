{
 "cells": [
  {
   "cell_type": "code",
   "execution_count": 5,
   "metadata": {},
   "outputs": [],
   "source": [
    "import cv2\n",
    "import numpy as np\n",
    "from tqdm import tqdm\n",
    "import pickle\n",
    "import tqdm\n",
    "from evaluation import mAP\n",
    "from data_utils import extract_rectangles_from_xml"
   ]
  },
  {
   "cell_type": "code",
   "execution_count": 6,
   "metadata": {},
   "outputs": [],
   "source": [
    "def process_frame(frame, background_model):\n",
    "    \"\"\"Process a single frame to extract foreground bounding boxes.\"\"\"\n",
    "    frameMask = background_model.apply(frame)\n",
    "    contours, _ = cv2.findContours(frameMask, cv2.RETR_EXTERNAL, cv2.CHAIN_APPROX_SIMPLE)\n",
    "    rectangles = [cv2.boundingRect(contour) for contour in contours]\n",
    "\n",
    "    return [(x, y, x+w, y+h) \n",
    "            for x, y, w, h in rectangles if w >= 50 and h >= 50], frameMask"
   ]
  },
  {
   "cell_type": "code",
   "execution_count": 8,
   "metadata": {},
   "outputs": [],
   "source": [
    "# Load video and get some variables\n",
    "cap = cv2.VideoCapture('data/AICity_data/train/S03/c010/vdo.avi')\n",
    "width  = int(cap.get(cv2.CAP_PROP_FRAME_WIDTH))\n",
    "height = int(cap.get(cv2.CAP_PROP_FRAME_HEIGHT))\n",
    "n_frames = int(cap.get(cv2.CAP_PROP_FRAME_COUNT))\n",
    "fps = int(cap.get(cv2.CAP_PROP_FPS))\n",
    "\n",
    "# We only use the last 75% of the video\n",
    "starting_frame = int(n_frames // 4)\n",
    "\n",
    "# Initialize background model\n",
    "history_to_use = 200 # How many past frames use to build the background model\n",
    "cap.set(cv2.CAP_PROP_POS_FRAMES, starting_frame-history_to_use)\n",
    "\n",
    "background_algorithm = \"MOG2\"\n",
    "if background_algorithm == \"MOG2\":\n",
    "    background_model = cv2.createBackgroundSubtractorMOG2(history=history_to_use, detectShadows=True)\n",
    "\n",
    "elif background_algorithm == \"LSBP\":\n",
    "    background_model = cv2.bgsegm.createBackgroundSubtractorLSBP(\n",
    "    noiseRemovalThresholdFacFG=0.008,\n",
    "    minCount=4\n",
    "    )\n",
    "\n",
    "elif background_algorithm == \"KNN\":\n",
    "    background_model = cv2.createBackgroundSubtractorKNN(\n",
    "        history=history_to_use,\n",
    "        detectShadows=True\n",
    "    )"
   ]
  },
  {
   "cell_type": "code",
   "execution_count": 11,
   "metadata": {},
   "outputs": [
    {
     "name": "stderr",
     "output_type": "stream",
     "text": [
      "100%|██████████| 1806/1806 [02:12<00:00, 13.59it/s]\n"
     ]
    }
   ],
   "source": [
    "processed_frames, processed_masks, frame_detections = [], [], []\n",
    "for i in tqdm.tqdm(range(starting_frame-history_to_use, n_frames)):\n",
    "    if not cap.isOpened():\n",
    "        break\n",
    "    ret, frame = cap.read()\n",
    "    bboxes, mask = process_frame(frame, background_model)\n",
    "    if i < starting_frame:\n",
    "        continue\n",
    "\n",
    "    # Save frame detections\n",
    "    frame_detections.append(bboxes)\n",
    "\n",
    "    # Add bounding boxes to frames/foreground masks\n",
    "    for bbox in bboxes:\n",
    "        cv2.rectangle(frame, (bbox[0],bbox[1]), (bbox[2],bbox[3]), (0,255,0), 3)\n",
    "        cv2.rectangle(mask, (bbox[0],bbox[1]), (bbox[2],bbox[3]), (0,255,0), 3)\n",
    "    processed_masks.append(mask)\n",
    "    processed_frames.append(frame)\n",
    "\n",
    "cap.release()"
   ]
  },
  {
   "cell_type": "code",
   "execution_count": 12,
   "metadata": {},
   "outputs": [],
   "source": [
    "# Create video with detected bounding boxes\n",
    "video=cv2.VideoWriter(f'output/output_{background_algorithm}2.mp4', -1, fps, (width, height), True)\n",
    "for frame in processed_frames:\n",
    "    video.write(frame)\n",
    "video.release()\n",
    "\n",
    "video=cv2.VideoWriter(f'output/output_{background_algorithm}_mask.mp4', -1, fps, (width, height), True)\n",
    "for frame in processed_masks:\n",
    "    video.write(frame)\n",
    "video.release()\n",
    "\n",
    "# Save detections\n",
    "with open(f\"output/{background_algorithm}_detections.pkl\", \"wb\") as f:\n",
    "    pickle.dump(frame_detections, f)"
   ]
  },
  {
   "cell_type": "code",
   "execution_count": 9,
   "metadata": {},
   "outputs": [],
   "source": [
    "# Load GT annotations\n",
    "annotation = extract_rectangles_from_xml('data/ai_challenge_s03_c010-full_annotation.xml')\n",
    "parked_cars = annotation[0] # Get the parked cars bboxes from the first frame\n",
    "\n",
    "# Ignore parked cars from the GTs\n",
    "gt_bbox = [\n",
    "    [list(np.array(r)) for r in rect if r not in parked_cars]\n",
    "    for rect in list(annotation.values())[starting_frame:]\n",
    "]"
   ]
  },
  {
   "cell_type": "code",
   "execution_count": 10,
   "metadata": {},
   "outputs": [],
   "source": [
    "# Load YOLO detections\n",
    "with open(f\"output/{background_algorithm}_detections.pkl\", \"rb\") as f:\n",
    "    frame_detections = pickle.load(f)\n",
    "\n",
    "# Filter those predictions that correspond to parked cars\n",
    "dist_thr = 30\n",
    "filtered_predictions = []\n",
    "for i, detections in enumerate(frame_detections):\n",
    "    filtered = []\n",
    "    for bbox in detections:\n",
    "        distances = np.array([np.mean([np.linalg.norm((bbox[0]-gt[0], bbox[1]-gt[1])), np.linalg.norm((bbox[2]-gt[2], bbox[3]-gt[3]))]) for gt in parked_cars])\n",
    "        if not np.any(distances < dist_thr):\n",
    "            filtered.append(bbox)\n",
    "    filtered_predictions.append(filtered)"
   ]
  },
  {
   "cell_type": "code",
   "execution_count": 24,
   "metadata": {},
   "outputs": [
    {
     "data": {
      "text/plain": [
       "0.24006015360456048"
      ]
     },
     "execution_count": 24,
     "metadata": {},
     "output_type": "execute_result"
    }
   ],
   "source": [
    "# Compute mAP\n",
    "mAP(filtered_predictions, gt_bbox, N=10)"
   ]
  }
 ],
 "metadata": {
  "kernelspec": {
   "display_name": "base",
   "language": "python",
   "name": "python3"
  },
  "language_info": {
   "codemirror_mode": {
    "name": "ipython",
    "version": 3
   },
   "file_extension": ".py",
   "mimetype": "text/x-python",
   "name": "python",
   "nbconvert_exporter": "python",
   "pygments_lexer": "ipython3",
   "version": "3.11.5"
  }
 },
 "nbformat": 4,
 "nbformat_minor": 2
}
