{
 "cells": [
  {
   "cell_type": "code",
   "execution_count": 31,
   "metadata": {},
   "outputs": [],
   "source": [
    "import cv2\n",
    "import supervision as sv\n",
    "import numpy as np\n",
    "from tqdm import tqdm\n",
    "from inference.models.yolo_world.yolo_world import YOLOWorld\n",
    "import pickle\n",
    "from tqdm import tqdm\n",
    "from evaluation import mAP\n",
    "from data_utils import extract_rectangles_from_xml"
   ]
  },
  {
   "cell_type": "code",
   "execution_count": 32,
   "metadata": {},
   "outputs": [],
   "source": [
    "# Load Pretrained YOLO-World\n",
    "model = YOLOWorld(model_id=\"yolo_world/l\")\n",
    "classes = [\"car\"]\n",
    "model.set_classes(classes)"
   ]
  },
  {
   "cell_type": "code",
   "execution_count": 33,
   "metadata": {},
   "outputs": [
    {
     "data": {
      "text/plain": [
       "True"
      ]
     },
     "execution_count": 33,
     "metadata": {},
     "output_type": "execute_result"
    }
   ],
   "source": [
    "# Load video and get some variables\n",
    "cap = cv2.VideoCapture('data/AICity_data/train/S03/c010/vdo.avi')\n",
    "width  = int(cap.get(cv2.CAP_PROP_FRAME_WIDTH))\n",
    "height = int(cap.get(cv2.CAP_PROP_FRAME_HEIGHT))\n",
    "n_frames = int(cap.get(cv2.CAP_PROP_FRAME_COUNT))\n",
    "fps = int(cap.get(cv2.CAP_PROP_FPS))\n",
    "\n",
    "# We only use the last 75% of the video\n",
    "starting_frame = int(n_frames // 4)\n",
    "cap.set(cv2.CAP_PROP_POS_FRAMES, starting_frame)"
   ]
  },
  {
   "cell_type": "code",
   "execution_count": 34,
   "metadata": {},
   "outputs": [
    {
     "name": "stderr",
     "output_type": "stream",
     "text": [
      "100%|██████████| 1606/1606 [12:56<00:00,  2.07it/s]\n"
     ]
    }
   ],
   "source": [
    "processed_frames, frame_detections = [], []\n",
    "for _ in tqdm(range(starting_frame, n_frames)):\n",
    "    if not cap.isOpened():\n",
    "        break\n",
    "    ret, frame = cap.read()\n",
    "    results = model.infer(frame)\n",
    "    detections = sv.Detections.from_inference(results)\n",
    "\n",
    "    # Save frame detections\n",
    "    frame_detections.append(detections.xyxy)\n",
    "\n",
    "    # Add bounding boxes/confidences to frames\n",
    "    box_annotator = sv.BoxAnnotator(thickness=2, text_thickness=1, text_scale=0.5)\n",
    "    labels = [f\"{model.class_names[class_id]} {confidence:0.2f}\" for _, _, confidence, class_id, _, _ in detections]\n",
    "    processed_frames.append(box_annotator.annotate(scene=frame, detections=detections, labels=labels))\n",
    "\n",
    "cap.release()"
   ]
  },
  {
   "cell_type": "code",
   "execution_count": 35,
   "metadata": {},
   "outputs": [],
   "source": [
    "# Create video with detected bounding boxes\n",
    "video=cv2.VideoWriter('output/output_yolo.mp4', -1, fps, (width, height), True)\n",
    "for frame in processed_frames:\n",
    "    video.write(frame)\n",
    "video.release()"
   ]
  },
  {
   "cell_type": "code",
   "execution_count": 36,
   "metadata": {},
   "outputs": [],
   "source": [
    "# Save detections\n",
    "with open(\"output/yolo_detections.pkl\", \"wb\") as f:\n",
    "    pickle.dump(frame_detections, f)"
   ]
  },
  {
   "cell_type": "code",
   "execution_count": 37,
   "metadata": {},
   "outputs": [],
   "source": [
    "# Load GT annotations\n",
    "annotation = extract_rectangles_from_xml('data/ai_challenge_s03_c010-full_annotation.xml')\n",
    "parked_cars = annotation[0] # Get the parked cars bboxes from the first frame\n",
    "\n",
    "# Ignore parked cars from the GTs\n",
    "gt_bbox = [\n",
    "    [list(np.array(r).astype(int)) for r in rect if r not in parked_cars]\n",
    "    for rect in list(annotation.values())[starting_frame:]\n",
    "]"
   ]
  },
  {
   "cell_type": "code",
   "execution_count": 38,
   "metadata": {},
   "outputs": [],
   "source": [
    "# Load YOLO detections\n",
    "with open(\"output/yolo_detections.pkl\", \"rb\") as f:\n",
    "    frame_detections = pickle.load(f)\n",
    "\n",
    "# Filter those predictions that correspond to parked cars\n",
    "dist_thr = 30\n",
    "filtered_predictions = []\n",
    "for i, detections in enumerate(frame_detections):\n",
    "    filtered = []\n",
    "    for bbox in detections:\n",
    "        distances = np.array([np.mean([np.linalg.norm((bbox[0]-gt[0], bbox[1]-gt[1])), np.linalg.norm((bbox[2]-gt[2], bbox[3]-gt[3]))]) for gt in parked_cars])\n",
    "        if not np.any(distances < dist_thr):\n",
    "            filtered.append(bbox.tolist())\n",
    "    filtered_predictions.append(filtered)"
   ]
  },
  {
   "cell_type": "code",
   "execution_count": 39,
   "metadata": {},
   "outputs": [
    {
     "data": {
      "text/plain": [
       "0.5649592128140454"
      ]
     },
     "execution_count": 39,
     "metadata": {},
     "output_type": "execute_result"
    }
   ],
   "source": [
    "# Compute mAP\n",
    "mAP(filtered_predictions, gt_bbox, N=200)"
   ]
  },
  {
   "cell_type": "code",
   "execution_count": 40,
   "metadata": {},
   "outputs": [
    {
     "name": "stderr",
     "output_type": "stream",
     "text": [
      "100%|██████████| 1606/1606 [00:26<00:00, 60.10it/s]\n"
     ]
    }
   ],
   "source": [
    "# Create video with detected bounding boxes + GT boxes\n",
    "cap = cv2.VideoCapture('data/AICity_data/train/S03/c010/vdo.avi')\n",
    "cap.set(cv2.CAP_PROP_POS_FRAMES, starting_frame)\n",
    "video=cv2.VideoWriter('output/output_yolo_and_GT.mp4', -1, fps, (width, height), True)\n",
    "for i in tqdm(range(n_frames-starting_frame)):\n",
    "    if not cap.isOpened():\n",
    "        break\n",
    "    ret, frame = cap.read()\n",
    "    for gt in gt_bbox[i]:\n",
    "        frame = cv2.rectangle(frame, (gt[0], gt[1]), (gt[2], gt[3]), (0, 255, 0), 3)\n",
    "\n",
    "    for pred in filtered_predictions[i]:\n",
    "        frame = cv2.rectangle(frame, (int(pred[0]), int(pred[1])), (int(pred[2]), int(pred[3])), (0, 0, 255), 2)\n",
    "    video.write(frame)\n",
    "video.release()"
   ]
  }
 ],
 "metadata": {
  "kernelspec": {
   "display_name": "base",
   "language": "python",
   "name": "python3"
  },
  "language_info": {
   "codemirror_mode": {
    "name": "ipython",
    "version": 3
   },
   "file_extension": ".py",
   "mimetype": "text/x-python",
   "name": "python",
   "nbconvert_exporter": "python",
   "pygments_lexer": "ipython3",
   "version": "3.11.5"
  }
 },
 "nbformat": 4,
 "nbformat_minor": 2
}
