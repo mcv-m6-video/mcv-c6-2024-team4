{
 "cells": [
  {
   "cell_type": "code",
   "execution_count": 1,
   "metadata": {},
   "outputs": [],
   "source": [
    "from ultralytics import YOLO\n",
    "from PIL import Image\n",
    "from data_utils import extract_rectangles_from_xml\n",
    "from eval_utils import mAP\n",
    "import cv2\n",
    "from tqdm import tqdm\n",
    "import numpy as np\n",
    "from sort import Sort"
   ]
  },
  {
   "cell_type": "code",
   "execution_count": 2,
   "metadata": {},
   "outputs": [],
   "source": [
    "finetuned = True\n",
    "\n",
    "# Load a model\n",
    "if finetuned:\n",
    "    model = YOLO(\"last.pt\")  # load a finetuned model\n",
    "else:\n",
    "    model = YOLO(\"yolov8n.pt\") "
   ]
  },
  {
   "cell_type": "code",
   "execution_count": 3,
   "metadata": {},
   "outputs": [
    {
     "name": "stderr",
     "output_type": "stream",
     "text": [
      "100%|██████████| 100/100 [00:32<00:00,  3.09it/s]\n"
     ]
    }
   ],
   "source": [
    "cap = cv2.VideoCapture('data/S03/c010/vdo.avi')\n",
    "width  = int(cap.get(cv2.CAP_PROP_FRAME_WIDTH))\n",
    "height = int(cap.get(cv2.CAP_PROP_FRAME_HEIGHT))\n",
    "n_frames = int(cap.get(cv2.CAP_PROP_FRAME_COUNT))\n",
    "fps = int(cap.get(cv2.CAP_PROP_FPS))\n",
    "\n",
    "# We only do inference on the last 75% of the video\n",
    "starting_frame = int(n_frames // 4)\n",
    "cap.set(cv2.CAP_PROP_POS_FRAMES, starting_frame)\n",
    "\n",
    "frame_detections = []\n",
    "for _ in tqdm(range(starting_frame, starting_frame+100)):\n",
    "    if not cap.isOpened():\n",
    "        break\n",
    "    ret, frame = cap.read()\n",
    "    # Run model on current frame\n",
    "    results = model(frame, verbose=False)\n",
    "\n",
    "    # Save frame detections\n",
    "    frame_detections.append(results[0].boxes)\n",
    "\n",
    "if not finetuned:\n",
    "    filtered_predictions = [[box.xyxy[0].to(int).tolist() + box.conf.tolist() for box in frame_boxes if box.cls == 2] for frame_boxes in frame_detections]\n",
    "else:\n",
    "    filtered_predictions = [[box.xyxy[0].to(int).tolist() + box.conf.tolist() for box in frame_boxes] for frame_boxes in frame_detections]"
   ]
  },
  {
   "cell_type": "code",
   "execution_count": 7,
   "metadata": {},
   "outputs": [],
   "source": [
    "# Initialize SORT tracker\n",
    "mot_tracker = Sort()\n",
    "\n",
    "# Track objects across frames\n",
    "tracking = dict()\n",
    "tracking_video = []\n",
    "for i,dets in enumerate(filtered_predictions):\n",
    "    tracked_detections = mot_tracker.update(np.array(dets))\n",
    "    tracking[i+starting_frame+1] = tracked_detections\n",
    "    tracking_video.append(tracked_detections)"
   ]
  },
  {
   "cell_type": "code",
   "execution_count": null,
   "metadata": {},
   "outputs": [],
   "source": [
    "# Placeholder values for <conf>, <x>, <y>, <z> since these are not provided\n",
    "conf, x, y, z = 1, -1, -1, -1  # Using -1 to indicate unknown or not applicable\n",
    "\n",
    "# Convert data to the required gt.txt format\n",
    "gt_content = []\n",
    "for frame, bboxes in tracking.items():\n",
    "    for bbox in bboxes:\n",
    "        bb_left, bb_top, bb_right, bb_bottom, obj_id = map(int, bbox)\n",
    "        bb_width = bb_right - bb_left\n",
    "        bb_height = bb_bottom - bb_top\n",
    "        gt_content.append(f\"{frame}, {obj_id}, {bb_left}, {bb_top}, {bb_width}, {bb_height}, {conf}, {x}, {y}, {z}\")\n",
    "\n",
    "# Join all entries to form the final content for the gt.txt file\n",
    "gt_text = \"\\n\".join(gt_content)\n",
    "\n",
    "file_path = 'TrackEval/data/trackers/mot_challenge/week2-train/kalmantrackerft/data/week2-01.txt'  # Define the file path\n",
    "with open(file_path, 'w') as f:\n",
    "    f.write(gt_text)"
   ]
  },
  {
   "cell_type": "code",
   "execution_count": null,
   "metadata": {},
   "outputs": [],
   "source": [
    "cap = cv2.VideoCapture('data/S03/c010/vdo.avi')\n",
    "\n",
    "# Store tracking history for each object\n",
    "tracking_history = {}\n",
    "# Store colors for each object ID\n",
    "colors = {}\n",
    "\n",
    "for start in tqdm(range(starting_frame, n_frames, 100)):\n",
    "\n",
    "    cap.set(cv2.CAP_PROP_POS_FRAMES, start)\n",
    "    video = cv2.VideoWriter(f'tracking/kalmantrackerft/tracking_{start}.mp4', -1, fps, (width, height), True)\n",
    "\n",
    "    for i in range(start, start + 100):\n",
    "        ret, frame = cap.read()\n",
    "        if not ret:\n",
    "            break\n",
    "\n",
    "        # Draw detected bounding boxes and tracking lines\n",
    "        for x in tracking_video[i-starting_frame]:\n",
    "            bbox = list(map(int, x[:4]))\n",
    "            obj_id = int(x[4])\n",
    "            # Assign a unique color if new object\n",
    "            if obj_id not in colors:\n",
    "                colors[obj_id] = (np.random.randint(0, 255), np.random.randint(0, 255), np.random.randint(0, 255))\n",
    "\n",
    "            # Draw the bounding box\n",
    "            start_point = (int(bbox[0]), int(bbox[1]))\n",
    "            end_point = (int(bbox[2]), int(bbox[3]))\n",
    "            frame = cv2.rectangle(frame, start_point, end_point, colors[obj_id], 2)\n",
    "            frame = cv2.putText(frame, str(obj_id), start_point, cv2.FONT_HERSHEY_SIMPLEX, 1, colors[obj_id], 2, cv2.LINE_AA)\n",
    "            \n",
    "            # Update tracking history\n",
    "            center_position = ((start_point[0] + end_point[0]) // 2, (start_point[1] + end_point[1]) // 2)\n",
    "            if obj_id not in tracking_history:\n",
    "                tracking_history[obj_id] = [center_position]\n",
    "            else:\n",
    "                tracking_history[obj_id].append(center_position)\n",
    "            \n",
    "            # Draw tracking line (polyline for all historical positions)\n",
    "            if len(tracking_history[obj_id]) > 1:\n",
    "                for j in range(1, len(tracking_history[obj_id])):\n",
    "                    cv2.line(frame, tracking_history[obj_id][j - 1], tracking_history[obj_id][j], colors[obj_id], 2)\n",
    "\n",
    "        video.write(frame)\n",
    "\n",
    "video.release()"
   ]
  }
 ],
 "metadata": {
  "kernelspec": {
   "display_name": "base",
   "language": "python",
   "name": "python3"
  },
  "language_info": {
   "codemirror_mode": {
    "name": "ipython",
    "version": 3
   },
   "file_extension": ".py",
   "mimetype": "text/x-python",
   "name": "python",
   "nbconvert_exporter": "python",
   "pygments_lexer": "ipython3",
   "version": "3.9.18"
  }
 },
 "nbformat": 4,
 "nbformat_minor": 2
}
