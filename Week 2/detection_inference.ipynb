{
 "cells": [
  {
   "cell_type": "code",
   "execution_count": 3,
   "metadata": {},
   "outputs": [],
   "source": [
    "from ultralytics import YOLO\n",
    "from PIL import Image\n",
    "from data_utils import extract_rectangles_from_xml\n",
    "from eval_utils import mAP\n",
    "import cv2\n",
    "from tqdm import tqdm\n",
    "import numpy as np"
   ]
  },
  {
   "cell_type": "code",
   "execution_count": 4,
   "metadata": {},
   "outputs": [
    {
     "name": "stdout",
     "output_type": "stream",
     "text": [
      "Downloading https://github.com/ultralytics/assets/releases/download/v8.1.0/yolov8n.pt to 'yolov8n.pt'...\n"
     ]
    },
    {
     "name": "stderr",
     "output_type": "stream",
     "text": [
      "100%|██████████| 6.23M/6.23M [00:00<00:00, 9.14MB/s]\n"
     ]
    }
   ],
   "source": [
    "# Load a model\n",
    "model = YOLO(\"yolov8n.pt\")  # load a pretrained model (recommended for training)"
   ]
  },
  {
   "cell_type": "code",
   "execution_count": 8,
   "metadata": {},
   "outputs": [
    {
     "name": "stderr",
     "output_type": "stream",
     "text": [
      "100%|██████████| 100/100 [00:35<00:00,  2.82it/s]\n"
     ]
    }
   ],
   "source": [
    "cap = cv2.VideoCapture('data/S03/c010/vdo.avi')\n",
    "width  = int(cap.get(cv2.CAP_PROP_FRAME_WIDTH))\n",
    "height = int(cap.get(cv2.CAP_PROP_FRAME_HEIGHT))\n",
    "n_frames = int(cap.get(cv2.CAP_PROP_FRAME_COUNT))\n",
    "fps = int(cap.get(cv2.CAP_PROP_FPS))\n",
    "\n",
    "# We only do inference on the last 75% of the video\n",
    "starting_frame = int(n_frames // 4)\n",
    "cap.set(cv2.CAP_PROP_POS_FRAMES, starting_frame)\n",
    "\n",
    "frame_detections = []\n",
    "for _ in tqdm(range(starting_frame, n_frames)):\n",
    "    if not cap.isOpened():\n",
    "        break\n",
    "    ret, frame = cap.read()\n",
    "    # Run model on current frame\n",
    "    results = model(frame, verbose=False)\n",
    "\n",
    "    # Save frame detections\n",
    "    frame_detections.append(results[0].boxes)"
   ]
  },
  {
   "cell_type": "code",
   "execution_count": 4,
   "metadata": {},
   "outputs": [],
   "source": [
    "annotation = extract_rectangles_from_xml('data/ai_challenge_s03_c010-full_annotation.xml')\n",
    "parked_cars = annotation[0]\n",
    "\n",
    "gt_bbox = [\n",
    "    [list(np.array(r).astype(int)) for r in rect]# if r not in parked_cars]\n",
    "    for rect in list(annotation.values())[starting_frame:]\n",
    "]"
   ]
  },
  {
   "cell_type": "code",
   "execution_count": 5,
   "metadata": {},
   "outputs": [],
   "source": [
    "filtered_predictions = [[box.xyxy[0] for box in frame_boxes if box.cls == 2] for frame_boxes in frame_detections]"
   ]
  },
  {
   "cell_type": "code",
   "execution_count": 6,
   "metadata": {},
   "outputs": [],
   "source": [
    "filtered_predictions = []\n",
    "for i, frame_boxes in enumerate(frame_detections):\n",
    "    filtered = []\n",
    "    for bbox in frame_boxes:\n",
    "        xyxy = bbox.xyxy[0]\n",
    "        \"\"\"\n",
    "        dist_thr = 25\n",
    "        distances = np.array(\n",
    "            [\n",
    "                np.mean([\n",
    "                    np.linalg.norm((xyxy[0]-gt[0], xyxy[1]-gt[1])), \n",
    "                    np.linalg.norm((xyxy[2]-gt[2], xyxy[3]-gt[3]))]) \n",
    "                for gt in parked_cars\n",
    "                ])\n",
    "        # If the mean distance of the corners of the predicted bbox to the corners\n",
    "        # of a parked car is above the threshold and the class of the prediction is a \"Car\",\n",
    "        # it is a \"good\" prediction\n",
    "        #if not np.any(distances < dist_thr) and bbox.cls == 2:\n",
    "        \"\"\"\n",
    "        if bbox.cls == 2:\n",
    "            filtered.append(xyxy.tolist())\n",
    "\n",
    "    filtered_predictions.append(filtered)"
   ]
  },
  {
   "cell_type": "code",
   "execution_count": 7,
   "metadata": {},
   "outputs": [
    {
     "name": "stderr",
     "output_type": "stream",
     "text": [
      "100%|██████████| 1606/1606 [00:37<00:00, 42.82it/s]\n"
     ]
    }
   ],
   "source": [
    "# Create video with detected bounding boxes + GT boxes\n",
    "cap = cv2.VideoCapture('data/AICity_data/train/S03/c010/vdo.avi')\n",
    "cap.set(cv2.CAP_PROP_POS_FRAMES, starting_frame)\n",
    "video=cv2.VideoWriter('test.mp4', -1, fps, (width, height), True)\n",
    "for i in tqdm(range(n_frames-starting_frame)):\n",
    "    if not cap.isOpened():\n",
    "        break\n",
    "    ret, frame = cap.read()\n",
    "    for gt in gt_bbox[i]:\n",
    "        frame = cv2.rectangle(frame, (gt[0], gt[1]), (gt[2], gt[3]), (0, 255, 0), 3)\n",
    "\n",
    "    for pred in filtered_predictions[i]:\n",
    "        frame = cv2.rectangle(frame, (int(pred[0]), int(pred[1])), (int(pred[2]), int(pred[3])), (0, 0, 255), 2)\n",
    "    video.write(frame)\n",
    "video.release()"
   ]
  },
  {
   "cell_type": "code",
   "execution_count": 8,
   "metadata": {},
   "outputs": [
    {
     "name": "stdout",
     "output_type": "stream",
     "text": [
      "mAP: 0.46754475553156843 | mIoU: 0.6035712791765286\n"
     ]
    }
   ],
   "source": [
    "mAP, mIoU = mAP(filtered_predictions, gt_bbox, N=200)\n",
    "print(f\"mAP: {mAP} | mIoU: {mIoU}\")"
   ]
  }
 ],
 "metadata": {
  "kernelspec": {
   "display_name": "base",
   "language": "python",
   "name": "python3"
  },
  "language_info": {
   "codemirror_mode": {
    "name": "ipython",
    "version": 3
   },
   "file_extension": ".py",
   "mimetype": "text/x-python",
   "name": "python",
   "nbconvert_exporter": "python",
   "pygments_lexer": "ipython3",
   "version": "3.9.18"
  }
 },
 "nbformat": 4,
 "nbformat_minor": 2
}
