{
 "cells": [
  {
   "cell_type": "code",
   "execution_count": 22,
   "metadata": {},
   "outputs": [],
   "source": [
    "from ultralytics import YOLO\n",
    "from data_utils import extract_rectangles_from_xml\n",
    "from eval_utils import mAP\n",
    "import cv2\n",
    "from tqdm import tqdm\n",
    "import numpy as np"
   ]
  },
  {
   "cell_type": "code",
   "execution_count": 23,
   "metadata": {},
   "outputs": [],
   "source": [
    "# Load Pretrained YOLOv8\n",
    "model = YOLO(\"yolov8n.pt\")\n",
    "\n",
    "# Load Finetuned YOLOv8\n",
    "# model = YOLO(\"results/strategy_A/weights/best.pt\")"
   ]
  },
  {
   "cell_type": "code",
   "execution_count": 24,
   "metadata": {},
   "outputs": [
    {
     "name": "stderr",
     "output_type": "stream",
     "text": [
      "100%|██████████| 1606/1606 [00:33<00:00, 48.23it/s]\n"
     ]
    }
   ],
   "source": [
    "cap = cv2.VideoCapture('data/AICity_data/train/S03/c010/vdo.avi')\n",
    "width  = int(cap.get(cv2.CAP_PROP_FRAME_WIDTH))\n",
    "height = int(cap.get(cv2.CAP_PROP_FRAME_HEIGHT))\n",
    "n_frames = int(cap.get(cv2.CAP_PROP_FRAME_COUNT))\n",
    "fps = int(cap.get(cv2.CAP_PROP_FPS))\n",
    "\n",
    "# We only do inference on the last 75% of the video\n",
    "starting_frame = int(n_frames // 4)\n",
    "cap.set(cv2.CAP_PROP_POS_FRAMES, starting_frame)\n",
    "\n",
    "frame_detections = []\n",
    "for _ in tqdm(range(starting_frame, n_frames)):\n",
    "    if not cap.isOpened():\n",
    "        break\n",
    "    ret, frame = cap.read()\n",
    "    # Run model on current frame\n",
    "    results = model.predict(frame, verbose=False)\n",
    "\n",
    "    # Save frame detections\n",
    "    frame_detections.append(results[0].boxes)"
   ]
  },
  {
   "cell_type": "code",
   "execution_count": 25,
   "metadata": {},
   "outputs": [],
   "source": [
    "# Load GT annotations\n",
    "annotation = extract_rectangles_from_xml('data/ai_challenge_s03_c010-full_annotation.xml')\n",
    "gt_bbox = [\n",
    "    [list(np.array(r).astype(int)) for r in rect]\n",
    "    for rect in list(annotation.values())[starting_frame:]\n",
    "]"
   ]
  },
  {
   "cell_type": "code",
   "execution_count": 29,
   "metadata": {},
   "outputs": [],
   "source": [
    "filtered_predictions = []\n",
    "for i, frame_boxes in enumerate(frame_detections):\n",
    "    filtered = []\n",
    "    for bbox in frame_boxes:\n",
    "        xyxy = bbox.xyxy[0]\n",
    "        # We are only interested in car detections (Class 2)\n",
    "        if bbox.cls == 2: \n",
    "            filtered.append(xyxy.tolist())\n",
    "    filtered_predictions.append(filtered)"
   ]
  },
  {
   "cell_type": "code",
   "execution_count": 33,
   "metadata": {},
   "outputs": [
    {
     "name": "stderr",
     "output_type": "stream",
     "text": [
      "100%|██████████| 1606/1606 [00:16<00:00, 98.89it/s] \n"
     ]
    }
   ],
   "source": [
    "# Create video with detected bounding boxes + GT boxes\n",
    "cap = cv2.VideoCapture('data/AICity_data/train/S03/c010/vdo.avi')\n",
    "cap.set(cv2.CAP_PROP_POS_FRAMES, starting_frame)\n",
    "video=cv2.VideoWriter('finetuned.mp4', -1, fps, (width, height), True)\n",
    "for i in tqdm(range(n_frames-starting_frame)):\n",
    "    if not cap.isOpened():\n",
    "        break\n",
    "    ret, frame = cap.read()\n",
    "    for gt in gt_bbox[i]:\n",
    "        frame = cv2.rectangle(frame, (gt[0], gt[1]), (gt[2], gt[3]), (0, 255, 0), 3)\n",
    "\n",
    "    for pred in filtered_predictions[i]:\n",
    "        frame = cv2.rectangle(frame, (int(pred[0]), int(pred[1])), (int(pred[2]), int(pred[3])), (0, 0, 255), 2)\n",
    "    video.write(frame)\n",
    "video.release()"
   ]
  },
  {
   "cell_type": "code",
   "execution_count": 32,
   "metadata": {},
   "outputs": [
    {
     "name": "stdout",
     "output_type": "stream",
     "text": [
      "mAP: 0.7837943181843569 | mIoU: 0.8857377985469398\n"
     ]
    }
   ],
   "source": [
    "map, mIoU = mAP(filtered_predictions, gt_bbox, N=10)\n",
    "print(f\"mAP: {map} | mIoU: {mIoU}\")"
   ]
  }
 ],
 "metadata": {
  "kernelspec": {
   "display_name": "base",
   "language": "python",
   "name": "python3"
  },
  "language_info": {
   "codemirror_mode": {
    "name": "ipython",
    "version": 3
   },
   "file_extension": ".py",
   "mimetype": "text/x-python",
   "name": "python",
   "nbconvert_exporter": "python",
   "pygments_lexer": "ipython3",
   "version": "3.10.13"
  }
 },
 "nbformat": 4,
 "nbformat_minor": 2
}
