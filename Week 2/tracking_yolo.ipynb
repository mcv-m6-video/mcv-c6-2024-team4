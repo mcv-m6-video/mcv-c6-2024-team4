{
 "cells": [
  {
   "cell_type": "code",
   "execution_count": 3,
   "metadata": {},
   "outputs": [],
   "source": [
    "from ultralytics import YOLO\n",
    "from PIL import Image\n",
    "from data_utils import extract_rectangles_from_xml\n",
    "from eval_utils import mAP\n",
    "import cv2\n",
    "from tqdm import tqdm\n",
    "import numpy as np\n",
    "from typing import List, Tuple"
   ]
  },
  {
   "cell_type": "code",
   "execution_count": 44,
   "metadata": {},
   "outputs": [],
   "source": [
    "finetuned = True\n",
    "\n",
    "# Load a model\n",
    "if finetuned:\n",
    "    model = YOLO(\"last.pt\")  # load a finetuned model\n",
    "else:\n",
    "    model = YOLO(\"yolov8n.pt\") "
   ]
  },
  {
   "cell_type": "code",
   "execution_count": 45,
   "metadata": {},
   "outputs": [
    {
     "name": "stderr",
     "output_type": "stream",
     "text": [
      "  0%|          | 0/2141 [00:00<?, ?it/s]"
     ]
    },
    {
     "name": "stderr",
     "output_type": "stream",
     "text": [
      " 52%|█████▏    | 1107/2141 [05:52<05:04,  3.39it/s]"
     ]
    }
   ],
   "source": [
    "cap = cv2.VideoCapture('data/S03/c010/vdo.avi')\n",
    "width  = int(cap.get(cv2.CAP_PROP_FRAME_WIDTH))\n",
    "height = int(cap.get(cv2.CAP_PROP_FRAME_HEIGHT))\n",
    "n_frames = int(cap.get(cv2.CAP_PROP_FRAME_COUNT))\n",
    "fps = int(cap.get(cv2.CAP_PROP_FPS))\n",
    "\n",
    "frame_detections = []\n",
    "for _ in tqdm(range(n_frames)):\n",
    "    if not cap.isOpened():\n",
    "        break\n",
    "    ret, frame = cap.read()\n",
    "    # Run model on current frame\n",
    "    results = model(frame, verbose=False)\n",
    "\n",
    "    # Save frame detections\n",
    "    frame_detections.append(results[0].boxes)\n",
    "\n",
    "if not finetuned:\n",
    "    filtered_predictions = [[box.xyxy[0].to(int).tolist() for box in frame_boxes if box.cls == 2] for frame_boxes in frame_detections]\n",
    "else:\n",
    "    filtered_predictions = [[box.xyxy[0].to(int).tolist() for box in frame_boxes] for frame_boxes in frame_detections]"
   ]
  },
  {
   "cell_type": "code",
   "execution_count": 39,
   "metadata": {},
   "outputs": [],
   "source": [
    "annotation = extract_rectangles_from_xml('data/ai_challenge_s03_c010-full_annotation.xml', add_track_id=True)\n",
    "\n",
    "# create gt.txt\n",
    "# Placeholder values for <conf>, <x>, <y>, <z> since these are not provided\n",
    "conf, x, y, z = 1, -1, -1, -1  # Using -1 to indicate unknown or not applicable\n",
    "\n",
    "# Convert data to the required gt.txt format\n",
    "gt_content = []\n",
    "for frame, bboxes in annotation.items():\n",
    "    for bbox in bboxes:\n",
    "        bb_left, bb_top, bb_right, bb_bottom, obj_id = map(int, bbox)\n",
    "        bb_width = bb_right - bb_left\n",
    "        bb_height = bb_bottom - bb_top\n",
    "        gt_content.append(f\"{frame+1}, {obj_id}, {bb_left}, {bb_top}, {bb_width}, {bb_height}, {conf}, {x}, {y}, {z}\")\n",
    "\n",
    "# Join all entries to form the final content for the gt.txt file\n",
    "gt_text = \"\\n\".join(gt_content)\n",
    "\n",
    "file_path = 'TrackEval/data/gt/mot_challenge/week2-train/week2-01/gt/gt.txt'  # Define the file path\n",
    "with open(file_path, 'w') as f:\n",
    "    f.write(gt_text)"
   ]
  },
  {
   "cell_type": "code",
   "execution_count": 33,
   "metadata": {},
   "outputs": [],
   "source": [
    "def voc_iou(pred: List[int], gt: np.ndarray):\n",
    "    \"\"\"\n",
    "    Calculate IoU between detect box and gt boxes.\n",
    "    :param pred: Predicted bounding box coordinates [x1, y1, x2, y2].\n",
    "    :param gt: Ground truth bounding box coordinates [[x1, y1, x2, y2]].\n",
    "    \"\"\"\n",
    "    # compute overlaps\n",
    "    # intersection\n",
    "    ixmin = np.maximum(gt[0], pred[0])\n",
    "    iymin = np.maximum(gt[1], pred[1])\n",
    "    ixmax = np.minimum(gt[2], pred[2])\n",
    "    iymax = np.minimum(gt[3], pred[3])\n",
    "    iw = np.maximum(ixmax - ixmin + 1.0, 0.0)\n",
    "    ih = np.maximum(iymax - iymin + 1.0, 0.0)\n",
    "    inters = iw * ih\n",
    "\n",
    "    # union\n",
    "    uni = (\n",
    "        (pred[2] - pred[0] + 1.0) * (pred[3] - pred[1] + 1.0)\n",
    "        + (gt[2] - gt[0] + 1.0) * (gt[3] - gt[1] + 1.0)\n",
    "        - inters\n",
    "    )\n",
    "\n",
    "    return inters / uni"
   ]
  },
  {
   "cell_type": "code",
   "execution_count": 42,
   "metadata": {},
   "outputs": [
    {
     "name": "stderr",
     "output_type": "stream",
     "text": [
      "  0%|          | 0/2141 [00:00<?, ?it/s]"
     ]
    },
    {
     "name": "stderr",
     "output_type": "stream",
     "text": [
      "100%|██████████| 2141/2141 [00:03<00:00, 574.72it/s]\n"
     ]
    }
   ],
   "source": [
    "active_objects = {}  # Maps object ID to last seen bounding box\n",
    "next_object_id = 0\n",
    "iou_threshold = 0.3  # Minimum IoU to consider a match\n",
    "\n",
    "tracking = dict()\n",
    "\n",
    "# Compute IoU with previous frame's objects and assign IDs\n",
    "for i,detection in tqdm(enumerate(filtered_predictions), total=len(filtered_predictions)):\n",
    "    current_objects = {}\n",
    "    for bbox_curr in detection:\n",
    "        best_id = None\n",
    "        max_iou = 0  # Initialize the maximum IoU for the current detection to zero\n",
    "\n",
    "        for obj_id, bbox_prev in active_objects.items():\n",
    "            iou = voc_iou(bbox_curr, bbox_prev)\n",
    "            if iou > max_iou:  # Find the maximum IoU and corresponding object ID\n",
    "                max_iou = iou\n",
    "                best_id = obj_id\n",
    "    \n",
    "        if max_iou > iou_threshold:  # Only consider a match if the IoU is above the threshold\n",
    "            current_objects[best_id] = bbox_curr\n",
    "        else:\n",
    "            current_objects[next_object_id] = bbox_curr\n",
    "            next_object_id += 1\n",
    "\n",
    "    # Update tracking data for the next frame\n",
    "    active_objects = current_objects\n",
    "    tracking[i+1] = [value + [key] for key, value in active_objects.items()]\n"
   ]
  },
  {
   "cell_type": "code",
   "execution_count": 43,
   "metadata": {},
   "outputs": [],
   "source": [
    "# create gt.txt\n",
    "# Placeholder values for <conf>, <x>, <y>, <z> since these are not provided\n",
    "conf, x, y, z = 1, -1, -1, -1  # Using -1 to indicate unknown or not applicable\n",
    "\n",
    "# Convert data to the required gt.txt format\n",
    "gt_content = []\n",
    "for frame, bboxes in tracking.items():\n",
    "    for bbox in bboxes:\n",
    "        bb_left, bb_top, bb_right, bb_bottom, obj_id = map(int, bbox)\n",
    "        bb_width = bb_right - bb_left\n",
    "        bb_height = bb_bottom - bb_top\n",
    "        gt_content.append(f\"{frame}, {obj_id}, {bb_left}, {bb_top}, {bb_width}, {bb_height}, {conf}, {x}, {y}, {z}\")\n",
    "\n",
    "# Join all entries to form the final content for the gt.txt file\n",
    "gt_text = \"\\n\".join(gt_content)\n",
    "\n",
    "file_path = 'TrackEval/data/trackers/mot_challenge/week2-train/yolotrackerft/data/week2-01.txt'  # Define the file path\n",
    "with open(file_path, 'w') as f:\n",
    "    f.write(gt_text)"
   ]
  },
  {
   "cell_type": "code",
   "execution_count": 6,
   "metadata": {},
   "outputs": [
    {
     "name": "stderr",
     "output_type": "stream",
     "text": [
      "  0%|          | 0/22 [00:00<?, ?it/s]"
     ]
    },
    {
     "name": "stderr",
     "output_type": "stream",
     "text": [
      "100%|██████████| 22/22 [01:44<00:00,  4.74s/it]\n"
     ]
    }
   ],
   "source": [
    "cap = cv2.VideoCapture('data/S03/c010/vdo.avi')\n",
    "\n",
    "# Store tracking history for each object\n",
    "tracking_history = {}\n",
    "# Store colors for each object ID\n",
    "colors = {}\n",
    "\n",
    "for start in tqdm(range(0, n_frames, 100)):\n",
    "\n",
    "    cap.set(cv2.CAP_PROP_POS_FRAMES, start)\n",
    "    video = cv2.VideoWriter(f'tracking/yolotrackerft/tracking_{start}.mp4', -1, fps, (width, height), True)\n",
    "\n",
    "    for i in range(start, start + 100):\n",
    "        ret, frame = cap.read()\n",
    "        if not ret:\n",
    "            break\n",
    "\n",
    "        # Draw detected bounding boxes and tracking lines\n",
    "        for obj_id, bbox in tracking[i].items():\n",
    "            # Assign a unique color if new object\n",
    "            if obj_id not in colors:\n",
    "                colors[obj_id] = (np.random.randint(0, 255), np.random.randint(0, 255), np.random.randint(0, 255))\n",
    "\n",
    "            # Draw the bounding box\n",
    "            start_point = (int(bbox[0]), int(bbox[1]))\n",
    "            end_point = (int(bbox[2]), int(bbox[3]))\n",
    "            frame = cv2.rectangle(frame, start_point, end_point, colors[obj_id], 2)\n",
    "            frame = cv2.putText(frame, str(obj_id), start_point, cv2.FONT_HERSHEY_SIMPLEX, 1, colors[obj_id], 2, cv2.LINE_AA)\n",
    "            \n",
    "            # Update tracking history\n",
    "            center_position = ((start_point[0] + end_point[0]) // 2, (start_point[1] + end_point[1]) // 2)\n",
    "            if obj_id not in tracking_history:\n",
    "                tracking_history[obj_id] = [center_position]\n",
    "            else:\n",
    "                tracking_history[obj_id].append(center_position)\n",
    "            \n",
    "            # Draw tracking line (polyline for all historical positions)\n",
    "            if len(tracking_history[obj_id]) > 1:\n",
    "                for j in range(1, len(tracking_history[obj_id])):\n",
    "                    cv2.line(frame, tracking_history[obj_id][j - 1], tracking_history[obj_id][j], colors[obj_id], 2)\n",
    "\n",
    "        video.write(frame)\n",
    "\n",
    "video.release()"
   ]
  }
 ],
 "metadata": {
  "kernelspec": {
   "display_name": "base",
   "language": "python",
   "name": "python3"
  },
  "language_info": {
   "codemirror_mode": {
    "name": "ipython",
    "version": 3
   },
   "file_extension": ".py",
   "mimetype": "text/x-python",
   "name": "python",
   "nbconvert_exporter": "python",
   "pygments_lexer": "ipython3",
   "version": "3.9.18"
  }
 },
 "nbformat": 4,
 "nbformat_minor": 2
}
