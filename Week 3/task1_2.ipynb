{
 "cells": [
  {
   "cell_type": "code",
   "execution_count": 1,
   "metadata": {},
   "outputs": [],
   "source": [
    "import cv2\n",
    "import matplotlib.pyplot as plt\n",
    "import pyflow.pyflow as pyflow\n",
    "import numpy as np\n",
    "from evaluation import MSEN, PEPN"
   ]
  },
  {
   "cell_type": "code",
   "execution_count": 2,
   "metadata": {},
   "outputs": [],
   "source": [
    "# Code imported from https://github.com/mcv-m6-video/mcv-m6-2023-team2/blob/main/week4/utils_w4.py\n",
    "def convert_optical_flow_to_image(flow):\n",
    "    # The 3-channel uint16 PNG images that comprise optical flow maps contain information\n",
    "    # on the u-component in the first channel, the v-component in the second channel,\n",
    "    # and whether a valid ground truth optical flow value exists for a given pixel in the third channel.\n",
    "    # A value of 1 in the third channel indicates the existence of a valid optical flow value\n",
    "    # while a value of 0 indicates otherwise. To convert the u- and v-flow values from\n",
    "    # their original uint16 format to floating point values, one can do so by subtracting 2^15 from the value,\n",
    "    # converting it to float, and then dividing the result by 64.\n",
    "\n",
    "    img_u = (flow[:, :, 2] - 2 ** 15) / 64\n",
    "    img_v = (flow[:, :, 1] - 2 ** 15) / 64\n",
    "\n",
    "    img_available = flow[:, :, 0]  # whether a valid GT optical flow value is available\n",
    "    img_available[img_available > 1] = 1\n",
    "\n",
    "    img_u[img_available == 0] = 0\n",
    "    img_v[img_available == 0] = 0\n",
    "\n",
    "    optical_flow = np.dstack((img_u, img_v, img_available))\n",
    "    return optical_flow"
   ]
  },
  {
   "cell_type": "code",
   "execution_count": 3,
   "metadata": {},
   "outputs": [
    {
     "data": {
      "text/plain": [
       "((376, 1241, 3), (376, 1241, 3), (376, 1241, 3))"
      ]
     },
     "execution_count": 3,
     "metadata": {},
     "output_type": "execute_result"
    }
   ],
   "source": [
    "first = cv2.imread(r'kitti_data\\training\\image_0\\000045_10.png').astype(float) / 255.\n",
    "second = cv2.imread(r'kitti_data\\training\\image_0\\000045_11.png').astype(float) / 255.\n",
    "\n",
    "gt_flow = cv2.imread(r'kitti_data\\training\\flow_noc\\000045_10.png', cv2.IMREAD_UNCHANGED).astype(np.double)\n",
    "gt_flow_img = convert_optical_flow_to_image(gt_flow)\n",
    "\n",
    "first.shape, second.shape, gt_flow.shape"
   ]
  },
  {
   "cell_type": "code",
   "execution_count": 20,
   "metadata": {},
   "outputs": [
    {
     "data": {
      "text/plain": [
       "((376, 1241), (376, 1241), (376, 1241, 3), (376, 1241, 2))"
      ]
     },
     "execution_count": 20,
     "metadata": {},
     "output_type": "execute_result"
    }
   ],
   "source": [
    "u, v, im2W = pyflow.coarse2fine_flow(first, second)\n",
    "\n",
    "u.shape, v.shape, im2W.shape"
   ]
  },
  {
   "cell_type": "code",
   "execution_count": 22,
   "metadata": {},
   "outputs": [
    {
     "name": "stdout",
     "output_type": "stream",
     "text": [
      "MSEN: 10.60653739789043\n",
      "PEPN: 78.69069299338636\n"
     ]
    },
    {
     "data": {
      "text/plain": [
       "<Figure size 1100x400 with 0 Axes>"
      ]
     },
     "metadata": {},
     "output_type": "display_data"
    },
    {
     "data": {
      "text/plain": [
       "<Figure size 1100x400 with 0 Axes>"
      ]
     },
     "metadata": {},
     "output_type": "display_data"
    }
   ],
   "source": [
    "msen, sen = MSEN(gt_flow_img, im2W, './results')\n",
    "pepn = PEPN(sen)\n",
    "\n",
    "print('MSEN:', msen)\n",
    "print('PEPN:', pepn)"
   ]
  }
 ],
 "metadata": {
  "kernelspec": {
   "display_name": "Python 3",
   "language": "python",
   "name": "python3"
  },
  "language_info": {
   "codemirror_mode": {
    "name": "ipython",
    "version": 3
   },
   "file_extension": ".py",
   "mimetype": "text/x-python",
   "name": "python",
   "nbconvert_exporter": "python",
   "pygments_lexer": "ipython3",
   "version": "3.9.18"
  }
 },
 "nbformat": 4,
 "nbformat_minor": 2
}
